{
 "cells": [
  {
   "cell_type": "code",
   "execution_count": 53,
   "metadata": {},
   "outputs": [],
   "source": [
    "import numpy as np\n",
    "import pandas as pd\n",
    "import os\n",
    "from tensorflow.keras.utils import to_categorical\n",
    "from tensorflow.keras.callbacks import EarlyStopping\n",
    "from tensorflow.keras.models import Sequential\n",
    "from tensorflow.keras.layers import Dense, Dropout\n",
    "from matplotlib import pyplot\n",
    "from sklearn.preprocessing import StandardScaler\n",
    "from sklearn.model_selection import train_test_split"
   ]
  },
  {
   "cell_type": "code",
   "execution_count": 54,
   "metadata": {},
   "outputs": [
    {
     "data": {
      "application/vnd.microsoft.datawrangler.viewer.v0+json": {
       "columns": [
        {
         "name": "index",
         "rawType": "int64",
         "type": "integer"
        },
        {
         "name": "AREA",
         "rawType": "int64",
         "type": "integer"
        },
        {
         "name": "PERIMETER",
         "rawType": "float64",
         "type": "float"
        },
        {
         "name": "MAJOR_AXIS",
         "rawType": "float64",
         "type": "float"
        },
        {
         "name": "MINOR_AXIS",
         "rawType": "float64",
         "type": "float"
        },
        {
         "name": "ECCENTRICITY",
         "rawType": "float64",
         "type": "float"
        },
        {
         "name": "EQDIASQ",
         "rawType": "float64",
         "type": "float"
        },
        {
         "name": "SOLIDITY",
         "rawType": "float64",
         "type": "float"
        },
        {
         "name": "CONVEX_AREA",
         "rawType": "int64",
         "type": "integer"
        },
        {
         "name": "EXTENT",
         "rawType": "float64",
         "type": "float"
        },
        {
         "name": "ASPECT_RATIO",
         "rawType": "float64",
         "type": "float"
        },
        {
         "name": "ROUNDNESS",
         "rawType": "float64",
         "type": "float"
        },
        {
         "name": "COMPACTNESS",
         "rawType": "float64",
         "type": "float"
        },
        {
         "name": "SHAPEFACTOR_1",
         "rawType": "float64",
         "type": "float"
        },
        {
         "name": "SHAPEFACTOR_2",
         "rawType": "float64",
         "type": "float"
        },
        {
         "name": "SHAPEFACTOR_3",
         "rawType": "float64",
         "type": "float"
        },
        {
         "name": "SHAPEFACTOR_4",
         "rawType": "float64",
         "type": "float"
        },
        {
         "name": "MeanRR",
         "rawType": "float64",
         "type": "float"
        },
        {
         "name": "MeanRG",
         "rawType": "float64",
         "type": "float"
        },
        {
         "name": "MeanRB",
         "rawType": "float64",
         "type": "float"
        },
        {
         "name": "StdDevRR",
         "rawType": "float64",
         "type": "float"
        },
        {
         "name": "StdDevRG",
         "rawType": "float64",
         "type": "float"
        },
        {
         "name": "StdDevRB",
         "rawType": "float64",
         "type": "float"
        },
        {
         "name": "SkewRR",
         "rawType": "float64",
         "type": "float"
        },
        {
         "name": "SkewRG",
         "rawType": "float64",
         "type": "float"
        },
        {
         "name": "SkewRB",
         "rawType": "float64",
         "type": "float"
        },
        {
         "name": "KurtosisRR",
         "rawType": "float64",
         "type": "float"
        },
        {
         "name": "KurtosisRG",
         "rawType": "float64",
         "type": "float"
        },
        {
         "name": "KurtosisRB",
         "rawType": "float64",
         "type": "float"
        },
        {
         "name": "EntropyRR",
         "rawType": "int64",
         "type": "integer"
        },
        {
         "name": "EntropyRG",
         "rawType": "int64",
         "type": "integer"
        },
        {
         "name": "EntropyRB",
         "rawType": "int64",
         "type": "integer"
        },
        {
         "name": "ALLdaub4RR",
         "rawType": "float64",
         "type": "float"
        },
        {
         "name": "ALLdaub4RG",
         "rawType": "float64",
         "type": "float"
        },
        {
         "name": "ALLdaub4RB",
         "rawType": "float64",
         "type": "float"
        },
        {
         "name": "Class",
         "rawType": "object",
         "type": "string"
        }
       ],
       "conversionMethod": "pd.DataFrame",
       "ref": "a423c419-cc58-451b-b27c-fb3b0b45a343",
       "rows": [
        [
         "0",
         "422163",
         "2378.908",
         "837.8484",
         "645.6693",
         "0.6373",
         "733.1539",
         "0.9947",
         "424428",
         "0.7831",
         "1.2976",
         "0.9374",
         "0.875",
         "0.002",
         "0.0015",
         "0.7657",
         "0.9936",
         "117.4466",
         "109.9085",
         "95.6774",
         "26.5152",
         "23.0687",
         "30.123",
         "-0.5661",
         "-0.0114",
         "0.6019",
         "3.237",
         "2.9574",
         "4.2287",
         "-59191263232",
         "-50714214400",
         "-39922372608",
         "58.7255",
         "54.9554",
         "47.84",
         "BERHI"
        ],
        [
         "1",
         "338136",
         "2085.144",
         "723.8198",
         "595.2073",
         "0.569",
         "656.1464",
         "0.9974",
         "339014",
         "0.7795",
         "1.2161",
         "0.9773",
         "0.9065",
         "0.0021",
         "0.0018",
         "0.8218",
         "0.9993",
         "100.0578",
         "105.6314",
         "95.661",
         "27.2656",
         "23.4952",
         "28.1229",
         "-0.2328",
         "0.1349",
         "0.4134",
         "2.6228",
         "2.635",
         "3.1704",
         "-34233065472",
         "-37462601728",
         "-31477794816",
         "50.0259",
         "52.8168",
         "47.8315",
         "BERHI"
        ],
        [
         "2",
         "526843",
         "2647.394",
         "940.7379",
         "715.3638",
         "0.6494",
         "819.0222",
         "0.9962",
         "528876",
         "0.7657",
         "1.315",
         "0.9446",
         "0.8706",
         "0.0018",
         "0.0014",
         "0.758",
         "0.9968",
         "130.9558",
         "118.5703",
         "103.875",
         "29.7036",
         "24.6216",
         "33.9053",
         "-0.7152",
         "-0.1059",
         "0.9183",
         "3.7516",
         "3.8611",
         "4.7192",
         "-93948354560",
         "-74738221056",
         "-60311207936",
         "65.4772",
         "59.286",
         "51.9378",
         "BERHI"
        ],
        [
         "3",
         "416063",
         "2351.21",
         "827.9804",
         "645.2988",
         "0.6266",
         "727.8378",
         "0.9948",
         "418255",
         "0.7759",
         "1.2831",
         "0.9458",
         "0.8791",
         "0.002",
         "0.0016",
         "0.7727",
         "0.9915",
         "86.7798",
         "88.2531",
         "82.3751",
         "28.7288",
         "24.4905",
         "30.3955",
         "0.4584",
         "1.2917",
         "1.8028",
         "5.0401",
         "8.6136",
         "8.2618",
         "-32074307584",
         "-32060925952",
         "-29575010304",
         "43.39",
         "44.1259",
         "41.1882",
         "BERHI"
        ],
        [
         "4",
         "347562",
         "2160.354",
         "763.9877",
         "582.8359",
         "0.6465",
         "665.2291",
         "0.9908",
         "350797",
         "0.7569",
         "1.3108",
         "0.9358",
         "0.8707",
         "0.0022",
         "0.0017",
         "0.7582",
         "0.9938",
         "105.5484",
         "101.8132",
         "85.3342",
         "30.3205",
         "25.0291",
         "27.1741",
         "-0.3552",
         "0.2101",
         "0.8865",
         "2.7016",
         "2.9761",
         "4.4146",
         "-39980974080",
         "-35980042240",
         "-25593278464",
         "52.7743",
         "50.908",
         "42.6666",
         "BERHI"
        ]
       ],
       "shape": {
        "columns": 35,
        "rows": 5
       }
      },
      "text/html": [
       "<div>\n",
       "<style scoped>\n",
       "    .dataframe tbody tr th:only-of-type {\n",
       "        vertical-align: middle;\n",
       "    }\n",
       "\n",
       "    .dataframe tbody tr th {\n",
       "        vertical-align: top;\n",
       "    }\n",
       "\n",
       "    .dataframe thead th {\n",
       "        text-align: right;\n",
       "    }\n",
       "</style>\n",
       "<table border=\"1\" class=\"dataframe\">\n",
       "  <thead>\n",
       "    <tr style=\"text-align: right;\">\n",
       "      <th></th>\n",
       "      <th>AREA</th>\n",
       "      <th>PERIMETER</th>\n",
       "      <th>MAJOR_AXIS</th>\n",
       "      <th>MINOR_AXIS</th>\n",
       "      <th>ECCENTRICITY</th>\n",
       "      <th>EQDIASQ</th>\n",
       "      <th>SOLIDITY</th>\n",
       "      <th>CONVEX_AREA</th>\n",
       "      <th>EXTENT</th>\n",
       "      <th>ASPECT_RATIO</th>\n",
       "      <th>...</th>\n",
       "      <th>KurtosisRR</th>\n",
       "      <th>KurtosisRG</th>\n",
       "      <th>KurtosisRB</th>\n",
       "      <th>EntropyRR</th>\n",
       "      <th>EntropyRG</th>\n",
       "      <th>EntropyRB</th>\n",
       "      <th>ALLdaub4RR</th>\n",
       "      <th>ALLdaub4RG</th>\n",
       "      <th>ALLdaub4RB</th>\n",
       "      <th>Class</th>\n",
       "    </tr>\n",
       "  </thead>\n",
       "  <tbody>\n",
       "    <tr>\n",
       "      <th>0</th>\n",
       "      <td>422163</td>\n",
       "      <td>2378.908</td>\n",
       "      <td>837.8484</td>\n",
       "      <td>645.6693</td>\n",
       "      <td>0.6373</td>\n",
       "      <td>733.1539</td>\n",
       "      <td>0.9947</td>\n",
       "      <td>424428</td>\n",
       "      <td>0.7831</td>\n",
       "      <td>1.2976</td>\n",
       "      <td>...</td>\n",
       "      <td>3.2370</td>\n",
       "      <td>2.9574</td>\n",
       "      <td>4.2287</td>\n",
       "      <td>-59191263232</td>\n",
       "      <td>-50714214400</td>\n",
       "      <td>-39922372608</td>\n",
       "      <td>58.7255</td>\n",
       "      <td>54.9554</td>\n",
       "      <td>47.8400</td>\n",
       "      <td>BERHI</td>\n",
       "    </tr>\n",
       "    <tr>\n",
       "      <th>1</th>\n",
       "      <td>338136</td>\n",
       "      <td>2085.144</td>\n",
       "      <td>723.8198</td>\n",
       "      <td>595.2073</td>\n",
       "      <td>0.5690</td>\n",
       "      <td>656.1464</td>\n",
       "      <td>0.9974</td>\n",
       "      <td>339014</td>\n",
       "      <td>0.7795</td>\n",
       "      <td>1.2161</td>\n",
       "      <td>...</td>\n",
       "      <td>2.6228</td>\n",
       "      <td>2.6350</td>\n",
       "      <td>3.1704</td>\n",
       "      <td>-34233065472</td>\n",
       "      <td>-37462601728</td>\n",
       "      <td>-31477794816</td>\n",
       "      <td>50.0259</td>\n",
       "      <td>52.8168</td>\n",
       "      <td>47.8315</td>\n",
       "      <td>BERHI</td>\n",
       "    </tr>\n",
       "    <tr>\n",
       "      <th>2</th>\n",
       "      <td>526843</td>\n",
       "      <td>2647.394</td>\n",
       "      <td>940.7379</td>\n",
       "      <td>715.3638</td>\n",
       "      <td>0.6494</td>\n",
       "      <td>819.0222</td>\n",
       "      <td>0.9962</td>\n",
       "      <td>528876</td>\n",
       "      <td>0.7657</td>\n",
       "      <td>1.3150</td>\n",
       "      <td>...</td>\n",
       "      <td>3.7516</td>\n",
       "      <td>3.8611</td>\n",
       "      <td>4.7192</td>\n",
       "      <td>-93948354560</td>\n",
       "      <td>-74738221056</td>\n",
       "      <td>-60311207936</td>\n",
       "      <td>65.4772</td>\n",
       "      <td>59.2860</td>\n",
       "      <td>51.9378</td>\n",
       "      <td>BERHI</td>\n",
       "    </tr>\n",
       "    <tr>\n",
       "      <th>3</th>\n",
       "      <td>416063</td>\n",
       "      <td>2351.210</td>\n",
       "      <td>827.9804</td>\n",
       "      <td>645.2988</td>\n",
       "      <td>0.6266</td>\n",
       "      <td>727.8378</td>\n",
       "      <td>0.9948</td>\n",
       "      <td>418255</td>\n",
       "      <td>0.7759</td>\n",
       "      <td>1.2831</td>\n",
       "      <td>...</td>\n",
       "      <td>5.0401</td>\n",
       "      <td>8.6136</td>\n",
       "      <td>8.2618</td>\n",
       "      <td>-32074307584</td>\n",
       "      <td>-32060925952</td>\n",
       "      <td>-29575010304</td>\n",
       "      <td>43.3900</td>\n",
       "      <td>44.1259</td>\n",
       "      <td>41.1882</td>\n",
       "      <td>BERHI</td>\n",
       "    </tr>\n",
       "    <tr>\n",
       "      <th>4</th>\n",
       "      <td>347562</td>\n",
       "      <td>2160.354</td>\n",
       "      <td>763.9877</td>\n",
       "      <td>582.8359</td>\n",
       "      <td>0.6465</td>\n",
       "      <td>665.2291</td>\n",
       "      <td>0.9908</td>\n",
       "      <td>350797</td>\n",
       "      <td>0.7569</td>\n",
       "      <td>1.3108</td>\n",
       "      <td>...</td>\n",
       "      <td>2.7016</td>\n",
       "      <td>2.9761</td>\n",
       "      <td>4.4146</td>\n",
       "      <td>-39980974080</td>\n",
       "      <td>-35980042240</td>\n",
       "      <td>-25593278464</td>\n",
       "      <td>52.7743</td>\n",
       "      <td>50.9080</td>\n",
       "      <td>42.6666</td>\n",
       "      <td>BERHI</td>\n",
       "    </tr>\n",
       "  </tbody>\n",
       "</table>\n",
       "<p>5 rows × 35 columns</p>\n",
       "</div>"
      ],
      "text/plain": [
       "     AREA  PERIMETER  MAJOR_AXIS  MINOR_AXIS  ECCENTRICITY   EQDIASQ  \\\n",
       "0  422163   2378.908    837.8484    645.6693        0.6373  733.1539   \n",
       "1  338136   2085.144    723.8198    595.2073        0.5690  656.1464   \n",
       "2  526843   2647.394    940.7379    715.3638        0.6494  819.0222   \n",
       "3  416063   2351.210    827.9804    645.2988        0.6266  727.8378   \n",
       "4  347562   2160.354    763.9877    582.8359        0.6465  665.2291   \n",
       "\n",
       "   SOLIDITY  CONVEX_AREA  EXTENT  ASPECT_RATIO  ...  KurtosisRR  KurtosisRG  \\\n",
       "0    0.9947       424428  0.7831        1.2976  ...      3.2370      2.9574   \n",
       "1    0.9974       339014  0.7795        1.2161  ...      2.6228      2.6350   \n",
       "2    0.9962       528876  0.7657        1.3150  ...      3.7516      3.8611   \n",
       "3    0.9948       418255  0.7759        1.2831  ...      5.0401      8.6136   \n",
       "4    0.9908       350797  0.7569        1.3108  ...      2.7016      2.9761   \n",
       "\n",
       "   KurtosisRB    EntropyRR    EntropyRG    EntropyRB  ALLdaub4RR  ALLdaub4RG  \\\n",
       "0      4.2287 -59191263232 -50714214400 -39922372608     58.7255     54.9554   \n",
       "1      3.1704 -34233065472 -37462601728 -31477794816     50.0259     52.8168   \n",
       "2      4.7192 -93948354560 -74738221056 -60311207936     65.4772     59.2860   \n",
       "3      8.2618 -32074307584 -32060925952 -29575010304     43.3900     44.1259   \n",
       "4      4.4146 -39980974080 -35980042240 -25593278464     52.7743     50.9080   \n",
       "\n",
       "   ALLdaub4RB  Class  \n",
       "0     47.8400  BERHI  \n",
       "1     47.8315  BERHI  \n",
       "2     51.9378  BERHI  \n",
       "3     41.1882  BERHI  \n",
       "4     42.6666  BERHI  \n",
       "\n",
       "[5 rows x 35 columns]"
      ]
     },
     "execution_count": 54,
     "metadata": {},
     "output_type": "execute_result"
    }
   ],
   "source": [
    "df = pd.read_excel(\"Date_Fruit_Datasets.xlsx\")\n",
    "df.head()"
   ]
  },
  {
   "cell_type": "code",
   "execution_count": 55,
   "metadata": {},
   "outputs": [
    {
     "name": "stdout",
     "output_type": "stream",
     "text": [
      "<class 'pandas.core.frame.DataFrame'>\n",
      "RangeIndex: 898 entries, 0 to 897\n",
      "Data columns (total 35 columns):\n",
      " #   Column         Non-Null Count  Dtype  \n",
      "---  ------         --------------  -----  \n",
      " 0   AREA           898 non-null    int64  \n",
      " 1   PERIMETER      898 non-null    float64\n",
      " 2   MAJOR_AXIS     898 non-null    float64\n",
      " 3   MINOR_AXIS     898 non-null    float64\n",
      " 4   ECCENTRICITY   898 non-null    float64\n",
      " 5   EQDIASQ        898 non-null    float64\n",
      " 6   SOLIDITY       898 non-null    float64\n",
      " 7   CONVEX_AREA    898 non-null    int64  \n",
      " 8   EXTENT         898 non-null    float64\n",
      " 9   ASPECT_RATIO   898 non-null    float64\n",
      " 10  ROUNDNESS      898 non-null    float64\n",
      " 11  COMPACTNESS    898 non-null    float64\n",
      " 12  SHAPEFACTOR_1  898 non-null    float64\n",
      " 13  SHAPEFACTOR_2  898 non-null    float64\n",
      " 14  SHAPEFACTOR_3  898 non-null    float64\n",
      " 15  SHAPEFACTOR_4  898 non-null    float64\n",
      " 16  MeanRR         898 non-null    float64\n",
      " 17  MeanRG         898 non-null    float64\n",
      " 18  MeanRB         898 non-null    float64\n",
      " 19  StdDevRR       898 non-null    float64\n",
      " 20  StdDevRG       898 non-null    float64\n",
      " 21  StdDevRB       898 non-null    float64\n",
      " 22  SkewRR         898 non-null    float64\n",
      " 23  SkewRG         898 non-null    float64\n",
      " 24  SkewRB         898 non-null    float64\n",
      " 25  KurtosisRR     898 non-null    float64\n",
      " 26  KurtosisRG     898 non-null    float64\n",
      " 27  KurtosisRB     898 non-null    float64\n",
      " 28  EntropyRR      898 non-null    int64  \n",
      " 29  EntropyRG      898 non-null    int64  \n",
      " 30  EntropyRB      898 non-null    int64  \n",
      " 31  ALLdaub4RR     898 non-null    float64\n",
      " 32  ALLdaub4RG     898 non-null    float64\n",
      " 33  ALLdaub4RB     898 non-null    float64\n",
      " 34  Class          898 non-null    object \n",
      "dtypes: float64(29), int64(5), object(1)\n",
      "memory usage: 245.7+ KB\n"
     ]
    }
   ],
   "source": [
    "df.info()"
   ]
  },
  {
   "cell_type": "code",
   "execution_count": 56,
   "metadata": {},
   "outputs": [
    {
     "data": {
      "application/vnd.microsoft.datawrangler.viewer.v0+json": {
       "columns": [
        {
         "name": "index",
         "rawType": "object",
         "type": "string"
        },
        {
         "name": "AREA",
         "rawType": "float64",
         "type": "float"
        },
        {
         "name": "PERIMETER",
         "rawType": "float64",
         "type": "float"
        },
        {
         "name": "MAJOR_AXIS",
         "rawType": "float64",
         "type": "float"
        },
        {
         "name": "MINOR_AXIS",
         "rawType": "float64",
         "type": "float"
        },
        {
         "name": "ECCENTRICITY",
         "rawType": "float64",
         "type": "float"
        },
        {
         "name": "EQDIASQ",
         "rawType": "float64",
         "type": "float"
        },
        {
         "name": "SOLIDITY",
         "rawType": "float64",
         "type": "float"
        },
        {
         "name": "CONVEX_AREA",
         "rawType": "float64",
         "type": "float"
        },
        {
         "name": "EXTENT",
         "rawType": "float64",
         "type": "float"
        },
        {
         "name": "ASPECT_RATIO",
         "rawType": "float64",
         "type": "float"
        },
        {
         "name": "ROUNDNESS",
         "rawType": "float64",
         "type": "float"
        },
        {
         "name": "COMPACTNESS",
         "rawType": "float64",
         "type": "float"
        },
        {
         "name": "SHAPEFACTOR_1",
         "rawType": "float64",
         "type": "float"
        },
        {
         "name": "SHAPEFACTOR_2",
         "rawType": "float64",
         "type": "float"
        },
        {
         "name": "SHAPEFACTOR_3",
         "rawType": "float64",
         "type": "float"
        },
        {
         "name": "SHAPEFACTOR_4",
         "rawType": "float64",
         "type": "float"
        },
        {
         "name": "MeanRR",
         "rawType": "float64",
         "type": "float"
        },
        {
         "name": "MeanRG",
         "rawType": "float64",
         "type": "float"
        },
        {
         "name": "MeanRB",
         "rawType": "float64",
         "type": "float"
        },
        {
         "name": "StdDevRR",
         "rawType": "float64",
         "type": "float"
        },
        {
         "name": "StdDevRG",
         "rawType": "float64",
         "type": "float"
        },
        {
         "name": "StdDevRB",
         "rawType": "float64",
         "type": "float"
        },
        {
         "name": "SkewRR",
         "rawType": "float64",
         "type": "float"
        },
        {
         "name": "SkewRG",
         "rawType": "float64",
         "type": "float"
        },
        {
         "name": "SkewRB",
         "rawType": "float64",
         "type": "float"
        },
        {
         "name": "KurtosisRR",
         "rawType": "float64",
         "type": "float"
        },
        {
         "name": "KurtosisRG",
         "rawType": "float64",
         "type": "float"
        },
        {
         "name": "KurtosisRB",
         "rawType": "float64",
         "type": "float"
        },
        {
         "name": "EntropyRR",
         "rawType": "float64",
         "type": "float"
        },
        {
         "name": "EntropyRG",
         "rawType": "float64",
         "type": "float"
        },
        {
         "name": "EntropyRB",
         "rawType": "float64",
         "type": "float"
        },
        {
         "name": "ALLdaub4RR",
         "rawType": "float64",
         "type": "float"
        },
        {
         "name": "ALLdaub4RG",
         "rawType": "float64",
         "type": "float"
        },
        {
         "name": "ALLdaub4RB",
         "rawType": "float64",
         "type": "float"
        }
       ],
       "conversionMethod": "pd.DataFrame",
       "ref": "e051d859-9b17-45cb-bd8b-f3c252b7a877",
       "rows": [
        [
         "count",
         "898.0",
         "898.0",
         "898.0",
         "898.0",
         "898.0",
         "898.0",
         "898.0",
         "898.0",
         "898.0",
         "898.0",
         "898.0",
         "898.0",
         "898.0",
         "898.0",
         "898.0",
         "898.0",
         "898.0",
         "898.0",
         "898.0",
         "898.0",
         "898.0",
         "898.0",
         "898.0",
         "898.0",
         "898.0",
         "898.0",
         "898.0",
         "898.0",
         "898.0",
         "898.0",
         "898.0",
         "898.0",
         "898.0",
         "898.0"
        ],
        [
         "mean",
         "298295.20712694875",
         "2057.660953452116",
         "750.8119940979955",
         "495.8727851893096",
         "0.7374678173719377",
         "604.5779376391982",
         "0.981840311804009",
         "303845.59242761694",
         "0.7362671492204899",
         "2.131101781737194",
         "0.8577200445434299",
         "0.8071903118040089",
         "0.0034283964365256123",
         "0.0017944320712694876",
         "0.655419710467706",
         "0.9886796213808463",
         "100.16588452115812",
         "97.60940144766147",
         "96.19488942093543",
         "29.047436191536747",
         "26.38336224944321",
         "26.14833017817372",
         "0.08926614699331849",
         "0.5641387527839643",
         "0.25051792873051226",
         "4.247845211581292",
         "5.1108944320712695",
         "3.7809280623608017",
         "-31850206242.619152",
         "-29018599755.47439",
         "-27718762813.861916",
         "50.082887973273934",
         "48.80568062360802",
         "48.09839287305122"
        ],
        [
         "std",
         "107245.2053369638",
         "410.01245925885456",
         "144.05932568222747",
         "114.2689166394735",
         "0.08872738539217029",
         "119.59388825121141",
         "0.018157417097878388",
         "108815.6569466659",
         "0.053745180602709317",
         "17.82077794767289",
         "0.07083881651698845",
         "0.062175347088961885",
         "0.020456007828718526",
         "0.0004279167866735287",
         "0.09431446924725871",
         "0.020473144087853112",
         "32.126548652843795",
         "28.251801097658515",
         "21.627408636397437",
         "6.306931022542943",
         "5.462164225884774",
         "4.905078302941207",
         "0.9432854205528151",
         "1.0398134307566638",
         "0.6329177555639276",
         "2.892357178209001",
         "3.7454626943716773",
         "2.04983121970258",
         "20372411642.75319",
         "17129522646.045527",
         "14841374790.130335",
         "16.063125384151363",
         "14.125910963751462",
         "10.813862131741798"
        ],
        [
         "min",
         "1987.0",
         "911.828",
         "336.7227",
         "2.2832",
         "0.3448",
         "50.2984",
         "0.8366",
         "2257.0",
         "0.5123",
         "1.0653",
         "0.0048",
         "0.0411",
         "0.0017",
         "0.0011",
         "0.0017",
         "0.7568",
         "30.3826",
         "41.048",
         "44.2569",
         "7.3038",
         "8.6557",
         "5.1486",
         "-1.7242",
         "-1.8344",
         "-1.0291",
         "1.7082",
         "1.6076",
         "1.7672",
         "-109122420736.0",
         "-92616974336.0",
         "-87471767552.0",
         "15.1911",
         "20.5247",
         "22.13"
        ],
        [
         "25%",
         "206948.0",
         "1726.0915",
         "641.0686499999999",
         "404.684375",
         "0.685625",
         "513.3170749999999",
         "0.9788250000000001",
         "210022.75",
         "0.705875",
         "1.3737249999999999",
         "0.82775",
         "0.76805",
         "0.0022",
         "0.0015",
         "0.5899749999999999",
         "0.9893",
         "76.448",
         "77.30612500000001",
         "78.502375",
         "24.901525",
         "22.28965",
         "22.890975",
         "-0.5499",
         "-0.23020000000000002",
         "-0.19695",
         "2.536625",
         "2.50885",
         "2.577275",
         "-44294441984.0",
         "-38946376704.0",
         "-35645342720.0",
         "38.224425",
         "38.654525",
         "39.250725"
        ],
        [
         "50%",
         "319833.0",
         "2196.34545",
         "791.3634",
         "495.05485",
         "0.7547",
         "638.14095",
         "0.9873",
         "327207.0",
         "0.74695",
         "1.5241500000000001",
         "0.86775",
         "0.80495",
         "0.0026",
         "0.0016",
         "0.64795",
         "0.9936",
         "107.68245",
         "100.676",
         "99.2256",
         "29.70945",
         "25.6383",
         "26.469",
         "-0.1627",
         "0.24375",
         "0.13555",
         "3.0698",
         "3.1277999999999997",
         "3.0807",
         "-28261560320.0",
         "-26209897472.0",
         "-23929284608.0",
         "53.841300000000004",
         "50.3378",
         "49.61409999999999"
        ],
        [
         "75%",
         "382573.0",
         "2389.716575",
         "858.6337500000001",
         "589.0317",
         "0.80215",
         "697.930525",
         "0.9918",
         "388804.0",
         "0.77585",
         "1.67475",
         "0.8995",
         "0.848875",
         "0.0032",
         "0.002075",
         "0.7206250000000001",
         "0.9964",
         "126.12745000000001",
         "119.1596",
         "113.33225",
         "33.274375",
         "29.905325",
         "29.482375",
         "0.471025",
         "1.40655",
         "0.59395",
         "4.44985",
         "7.320399999999999",
         "4.283125",
         "-14604819712.0",
         "-14331047936.0",
         "-16603665152.0",
         "63.06335",
         "59.5736",
         "56.666675"
        ],
        [
         "max",
         "546063.0",
         "2811.9971",
         "1222.723",
         "766.4536",
         "1.0",
         "833.8279",
         "0.9974",
         "552598.0",
         "0.8562",
         "535.5257",
         "0.9773",
         "0.9681",
         "0.6154",
         "0.0043",
         "0.9373",
         "0.9995",
         "159.6494",
         "166.1354",
         "148.2114",
         "48.5712",
         "45.5107",
         "42.4228",
         "3.2236",
         "3.6971",
         "3.0923",
         "26.1711",
         "26.7367",
         "32.2495",
         "-162731632.0",
         "-562772672.0",
         "-437043456.0",
         "79.8289",
         "83.0649",
         "74.1046"
        ]
       ],
       "shape": {
        "columns": 34,
        "rows": 8
       }
      },
      "text/html": [
       "<div>\n",
       "<style scoped>\n",
       "    .dataframe tbody tr th:only-of-type {\n",
       "        vertical-align: middle;\n",
       "    }\n",
       "\n",
       "    .dataframe tbody tr th {\n",
       "        vertical-align: top;\n",
       "    }\n",
       "\n",
       "    .dataframe thead th {\n",
       "        text-align: right;\n",
       "    }\n",
       "</style>\n",
       "<table border=\"1\" class=\"dataframe\">\n",
       "  <thead>\n",
       "    <tr style=\"text-align: right;\">\n",
       "      <th></th>\n",
       "      <th>AREA</th>\n",
       "      <th>PERIMETER</th>\n",
       "      <th>MAJOR_AXIS</th>\n",
       "      <th>MINOR_AXIS</th>\n",
       "      <th>ECCENTRICITY</th>\n",
       "      <th>EQDIASQ</th>\n",
       "      <th>SOLIDITY</th>\n",
       "      <th>CONVEX_AREA</th>\n",
       "      <th>EXTENT</th>\n",
       "      <th>ASPECT_RATIO</th>\n",
       "      <th>...</th>\n",
       "      <th>SkewRB</th>\n",
       "      <th>KurtosisRR</th>\n",
       "      <th>KurtosisRG</th>\n",
       "      <th>KurtosisRB</th>\n",
       "      <th>EntropyRR</th>\n",
       "      <th>EntropyRG</th>\n",
       "      <th>EntropyRB</th>\n",
       "      <th>ALLdaub4RR</th>\n",
       "      <th>ALLdaub4RG</th>\n",
       "      <th>ALLdaub4RB</th>\n",
       "    </tr>\n",
       "  </thead>\n",
       "  <tbody>\n",
       "    <tr>\n",
       "      <th>count</th>\n",
       "      <td>898.000000</td>\n",
       "      <td>898.000000</td>\n",
       "      <td>898.000000</td>\n",
       "      <td>898.000000</td>\n",
       "      <td>898.000000</td>\n",
       "      <td>898.000000</td>\n",
       "      <td>898.000000</td>\n",
       "      <td>898.000000</td>\n",
       "      <td>898.000000</td>\n",
       "      <td>898.000000</td>\n",
       "      <td>...</td>\n",
       "      <td>898.000000</td>\n",
       "      <td>898.000000</td>\n",
       "      <td>898.000000</td>\n",
       "      <td>898.000000</td>\n",
       "      <td>8.980000e+02</td>\n",
       "      <td>8.980000e+02</td>\n",
       "      <td>8.980000e+02</td>\n",
       "      <td>898.000000</td>\n",
       "      <td>898.000000</td>\n",
       "      <td>898.000000</td>\n",
       "    </tr>\n",
       "    <tr>\n",
       "      <th>mean</th>\n",
       "      <td>298295.207127</td>\n",
       "      <td>2057.660953</td>\n",
       "      <td>750.811994</td>\n",
       "      <td>495.872785</td>\n",
       "      <td>0.737468</td>\n",
       "      <td>604.577938</td>\n",
       "      <td>0.981840</td>\n",
       "      <td>303845.592428</td>\n",
       "      <td>0.736267</td>\n",
       "      <td>2.131102</td>\n",
       "      <td>...</td>\n",
       "      <td>0.250518</td>\n",
       "      <td>4.247845</td>\n",
       "      <td>5.110894</td>\n",
       "      <td>3.780928</td>\n",
       "      <td>-3.185021e+10</td>\n",
       "      <td>-2.901860e+10</td>\n",
       "      <td>-2.771876e+10</td>\n",
       "      <td>50.082888</td>\n",
       "      <td>48.805681</td>\n",
       "      <td>48.098393</td>\n",
       "    </tr>\n",
       "    <tr>\n",
       "      <th>std</th>\n",
       "      <td>107245.205337</td>\n",
       "      <td>410.012459</td>\n",
       "      <td>144.059326</td>\n",
       "      <td>114.268917</td>\n",
       "      <td>0.088727</td>\n",
       "      <td>119.593888</td>\n",
       "      <td>0.018157</td>\n",
       "      <td>108815.656947</td>\n",
       "      <td>0.053745</td>\n",
       "      <td>17.820778</td>\n",
       "      <td>...</td>\n",
       "      <td>0.632918</td>\n",
       "      <td>2.892357</td>\n",
       "      <td>3.745463</td>\n",
       "      <td>2.049831</td>\n",
       "      <td>2.037241e+10</td>\n",
       "      <td>1.712952e+10</td>\n",
       "      <td>1.484137e+10</td>\n",
       "      <td>16.063125</td>\n",
       "      <td>14.125911</td>\n",
       "      <td>10.813862</td>\n",
       "    </tr>\n",
       "    <tr>\n",
       "      <th>min</th>\n",
       "      <td>1987.000000</td>\n",
       "      <td>911.828000</td>\n",
       "      <td>336.722700</td>\n",
       "      <td>2.283200</td>\n",
       "      <td>0.344800</td>\n",
       "      <td>50.298400</td>\n",
       "      <td>0.836600</td>\n",
       "      <td>2257.000000</td>\n",
       "      <td>0.512300</td>\n",
       "      <td>1.065300</td>\n",
       "      <td>...</td>\n",
       "      <td>-1.029100</td>\n",
       "      <td>1.708200</td>\n",
       "      <td>1.607600</td>\n",
       "      <td>1.767200</td>\n",
       "      <td>-1.091224e+11</td>\n",
       "      <td>-9.261697e+10</td>\n",
       "      <td>-8.747177e+10</td>\n",
       "      <td>15.191100</td>\n",
       "      <td>20.524700</td>\n",
       "      <td>22.130000</td>\n",
       "    </tr>\n",
       "    <tr>\n",
       "      <th>25%</th>\n",
       "      <td>206948.000000</td>\n",
       "      <td>1726.091500</td>\n",
       "      <td>641.068650</td>\n",
       "      <td>404.684375</td>\n",
       "      <td>0.685625</td>\n",
       "      <td>513.317075</td>\n",
       "      <td>0.978825</td>\n",
       "      <td>210022.750000</td>\n",
       "      <td>0.705875</td>\n",
       "      <td>1.373725</td>\n",
       "      <td>...</td>\n",
       "      <td>-0.196950</td>\n",
       "      <td>2.536625</td>\n",
       "      <td>2.508850</td>\n",
       "      <td>2.577275</td>\n",
       "      <td>-4.429444e+10</td>\n",
       "      <td>-3.894638e+10</td>\n",
       "      <td>-3.564534e+10</td>\n",
       "      <td>38.224425</td>\n",
       "      <td>38.654525</td>\n",
       "      <td>39.250725</td>\n",
       "    </tr>\n",
       "    <tr>\n",
       "      <th>50%</th>\n",
       "      <td>319833.000000</td>\n",
       "      <td>2196.345450</td>\n",
       "      <td>791.363400</td>\n",
       "      <td>495.054850</td>\n",
       "      <td>0.754700</td>\n",
       "      <td>638.140950</td>\n",
       "      <td>0.987300</td>\n",
       "      <td>327207.000000</td>\n",
       "      <td>0.746950</td>\n",
       "      <td>1.524150</td>\n",
       "      <td>...</td>\n",
       "      <td>0.135550</td>\n",
       "      <td>3.069800</td>\n",
       "      <td>3.127800</td>\n",
       "      <td>3.080700</td>\n",
       "      <td>-2.826156e+10</td>\n",
       "      <td>-2.620990e+10</td>\n",
       "      <td>-2.392928e+10</td>\n",
       "      <td>53.841300</td>\n",
       "      <td>50.337800</td>\n",
       "      <td>49.614100</td>\n",
       "    </tr>\n",
       "    <tr>\n",
       "      <th>75%</th>\n",
       "      <td>382573.000000</td>\n",
       "      <td>2389.716575</td>\n",
       "      <td>858.633750</td>\n",
       "      <td>589.031700</td>\n",
       "      <td>0.802150</td>\n",
       "      <td>697.930525</td>\n",
       "      <td>0.991800</td>\n",
       "      <td>388804.000000</td>\n",
       "      <td>0.775850</td>\n",
       "      <td>1.674750</td>\n",
       "      <td>...</td>\n",
       "      <td>0.593950</td>\n",
       "      <td>4.449850</td>\n",
       "      <td>7.320400</td>\n",
       "      <td>4.283125</td>\n",
       "      <td>-1.460482e+10</td>\n",
       "      <td>-1.433105e+10</td>\n",
       "      <td>-1.660367e+10</td>\n",
       "      <td>63.063350</td>\n",
       "      <td>59.573600</td>\n",
       "      <td>56.666675</td>\n",
       "    </tr>\n",
       "    <tr>\n",
       "      <th>max</th>\n",
       "      <td>546063.000000</td>\n",
       "      <td>2811.997100</td>\n",
       "      <td>1222.723000</td>\n",
       "      <td>766.453600</td>\n",
       "      <td>1.000000</td>\n",
       "      <td>833.827900</td>\n",
       "      <td>0.997400</td>\n",
       "      <td>552598.000000</td>\n",
       "      <td>0.856200</td>\n",
       "      <td>535.525700</td>\n",
       "      <td>...</td>\n",
       "      <td>3.092300</td>\n",
       "      <td>26.171100</td>\n",
       "      <td>26.736700</td>\n",
       "      <td>32.249500</td>\n",
       "      <td>-1.627316e+08</td>\n",
       "      <td>-5.627727e+08</td>\n",
       "      <td>-4.370435e+08</td>\n",
       "      <td>79.828900</td>\n",
       "      <td>83.064900</td>\n",
       "      <td>74.104600</td>\n",
       "    </tr>\n",
       "  </tbody>\n",
       "</table>\n",
       "<p>8 rows × 34 columns</p>\n",
       "</div>"
      ],
      "text/plain": [
       "                AREA    PERIMETER   MAJOR_AXIS  MINOR_AXIS  ECCENTRICITY  \\\n",
       "count     898.000000   898.000000   898.000000  898.000000    898.000000   \n",
       "mean   298295.207127  2057.660953   750.811994  495.872785      0.737468   \n",
       "std    107245.205337   410.012459   144.059326  114.268917      0.088727   \n",
       "min      1987.000000   911.828000   336.722700    2.283200      0.344800   \n",
       "25%    206948.000000  1726.091500   641.068650  404.684375      0.685625   \n",
       "50%    319833.000000  2196.345450   791.363400  495.054850      0.754700   \n",
       "75%    382573.000000  2389.716575   858.633750  589.031700      0.802150   \n",
       "max    546063.000000  2811.997100  1222.723000  766.453600      1.000000   \n",
       "\n",
       "          EQDIASQ    SOLIDITY    CONVEX_AREA      EXTENT  ASPECT_RATIO  ...  \\\n",
       "count  898.000000  898.000000     898.000000  898.000000    898.000000  ...   \n",
       "mean   604.577938    0.981840  303845.592428    0.736267      2.131102  ...   \n",
       "std    119.593888    0.018157  108815.656947    0.053745     17.820778  ...   \n",
       "min     50.298400    0.836600    2257.000000    0.512300      1.065300  ...   \n",
       "25%    513.317075    0.978825  210022.750000    0.705875      1.373725  ...   \n",
       "50%    638.140950    0.987300  327207.000000    0.746950      1.524150  ...   \n",
       "75%    697.930525    0.991800  388804.000000    0.775850      1.674750  ...   \n",
       "max    833.827900    0.997400  552598.000000    0.856200    535.525700  ...   \n",
       "\n",
       "           SkewRB  KurtosisRR  KurtosisRG  KurtosisRB     EntropyRR  \\\n",
       "count  898.000000  898.000000  898.000000  898.000000  8.980000e+02   \n",
       "mean     0.250518    4.247845    5.110894    3.780928 -3.185021e+10   \n",
       "std      0.632918    2.892357    3.745463    2.049831  2.037241e+10   \n",
       "min     -1.029100    1.708200    1.607600    1.767200 -1.091224e+11   \n",
       "25%     -0.196950    2.536625    2.508850    2.577275 -4.429444e+10   \n",
       "50%      0.135550    3.069800    3.127800    3.080700 -2.826156e+10   \n",
       "75%      0.593950    4.449850    7.320400    4.283125 -1.460482e+10   \n",
       "max      3.092300   26.171100   26.736700   32.249500 -1.627316e+08   \n",
       "\n",
       "          EntropyRG     EntropyRB  ALLdaub4RR  ALLdaub4RG  ALLdaub4RB  \n",
       "count  8.980000e+02  8.980000e+02  898.000000  898.000000  898.000000  \n",
       "mean  -2.901860e+10 -2.771876e+10   50.082888   48.805681   48.098393  \n",
       "std    1.712952e+10  1.484137e+10   16.063125   14.125911   10.813862  \n",
       "min   -9.261697e+10 -8.747177e+10   15.191100   20.524700   22.130000  \n",
       "25%   -3.894638e+10 -3.564534e+10   38.224425   38.654525   39.250725  \n",
       "50%   -2.620990e+10 -2.392928e+10   53.841300   50.337800   49.614100  \n",
       "75%   -1.433105e+10 -1.660367e+10   63.063350   59.573600   56.666675  \n",
       "max   -5.627727e+08 -4.370435e+08   79.828900   83.064900   74.104600  \n",
       "\n",
       "[8 rows x 34 columns]"
      ]
     },
     "execution_count": 56,
     "metadata": {},
     "output_type": "execute_result"
    }
   ],
   "source": [
    "df.describe()"
   ]
  },
  {
   "cell_type": "code",
   "execution_count": 57,
   "metadata": {},
   "outputs": [
    {
     "data": {
      "text/plain": [
       "0"
      ]
     },
     "execution_count": 57,
     "metadata": {},
     "output_type": "execute_result"
    }
   ],
   "source": [
    "df.isna().sum().sum()"
   ]
  },
  {
   "cell_type": "markdown",
   "metadata": {},
   "source": [
    "### **X and y**"
   ]
  },
  {
   "cell_type": "code",
   "execution_count": 58,
   "metadata": {},
   "outputs": [],
   "source": [
    "X = df.drop('Class', axis=1)\n",
    "y = df['Class'] "
   ]
  },
  {
   "cell_type": "code",
   "execution_count": 59,
   "metadata": {},
   "outputs": [
    {
     "data": {
      "text/plain": [
       "Class\n",
       "DOKOL     204\n",
       "SAFAVI    199\n",
       "ROTANA    166\n",
       "DEGLET     98\n",
       "SOGAY      94\n",
       "IRAQI      72\n",
       "BERHI      65\n",
       "Name: count, dtype: int64"
      ]
     },
     "execution_count": 59,
     "metadata": {},
     "output_type": "execute_result"
    }
   ],
   "source": [
    "y.value_counts()"
   ]
  },
  {
   "cell_type": "code",
   "execution_count": 60,
   "metadata": {},
   "outputs": [
    {
     "data": {
      "text/plain": [
       "array([[0., 0., 0., 0., 0., 0., 1.],\n",
       "       [0., 0., 0., 0., 0., 0., 1.],\n",
       "       [0., 0., 0., 0., 0., 0., 1.],\n",
       "       [0., 0., 0., 0., 0., 0., 1.],\n",
       "       [0., 0., 0., 0., 0., 0., 1.]])"
      ]
     },
     "execution_count": 60,
     "metadata": {},
     "output_type": "execute_result"
    }
   ],
   "source": [
    "class_labels = {\n",
    "    'DOKOL': 0,     \n",
    "    'SAFAVI': 1,   \n",
    "    'ROTANA': 2,   \n",
    "    'DEGLET': 3,     \n",
    "    'SOGAY': 4,     \n",
    "    'IRAQI': 5,      \n",
    "    'BERHI': 6  \n",
    "}\n",
    "\n",
    "y_transformed = to_categorical(y.map(class_labels))\n",
    "y_transformed[:5]"
   ]
  },
  {
   "cell_type": "markdown",
   "metadata": {},
   "source": [
    "#### Standart Scaler"
   ]
  },
  {
   "cell_type": "code",
   "execution_count": 61,
   "metadata": {},
   "outputs": [],
   "source": [
    "scaler = StandardScaler()\n",
    "\n",
    "scaled_X = scaler.fit_transform(X)"
   ]
  },
  {
   "cell_type": "markdown",
   "metadata": {},
   "source": [
    "### Train Test Split"
   ]
  },
  {
   "cell_type": "code",
   "execution_count": 62,
   "metadata": {},
   "outputs": [],
   "source": [
    "X_train, X_test, y_train, y_test = train_test_split(scaled_X, y_transformed, test_size=0.3, random_state=9)"
   ]
  },
  {
   "cell_type": "markdown",
   "metadata": {},
   "source": [
    "### Building Model"
   ]
  },
  {
   "cell_type": "code",
   "execution_count": 63,
   "metadata": {},
   "outputs": [],
   "source": [
    "model = Sequential()\n",
    "\n",
    "\n",
    "model.add(Dense(512, activation=\"relu\"))\n",
    "model.add(Dropout(0.3))\n",
    "model.add(Dense(256, activation=\"relu\"))\n",
    "model.add(Dropout(0.25))\n",
    "model.add(Dense(128, activation=\"relu\"))\n",
    "\n",
    "model.add(Dense(7, activation=\"softmax\"))"
   ]
  },
  {
   "cell_type": "code",
   "execution_count": 64,
   "metadata": {},
   "outputs": [],
   "source": [
    "model.compile(optimizer=\"adam\", loss=\"categorical_crossentropy\", metrics=[\"accuracy\"])"
   ]
  },
  {
   "cell_type": "code",
   "execution_count": 65,
   "metadata": {},
   "outputs": [
    {
     "name": "stdout",
     "output_type": "stream",
     "text": [
      "Epoch 1/20\n",
      "\u001b[1m5/5\u001b[0m \u001b[32m━━━━━━━━━━━━━━━━━━━━\u001b[0m\u001b[37m\u001b[0m \u001b[1m2s\u001b[0m 69ms/step - accuracy: 0.4469 - loss: 1.5939 - val_accuracy: 0.6370 - val_loss: 0.9800\n",
      "Epoch 2/20\n",
      "\u001b[1m5/5\u001b[0m \u001b[32m━━━━━━━━━━━━━━━━━━━━\u001b[0m\u001b[37m\u001b[0m \u001b[1m0s\u001b[0m 23ms/step - accuracy: 0.6565 - loss: 0.8689 - val_accuracy: 0.7037 - val_loss: 0.7081\n",
      "Epoch 3/20\n",
      "\u001b[1m5/5\u001b[0m \u001b[32m━━━━━━━━━━━━━━━━━━━━\u001b[0m\u001b[37m\u001b[0m \u001b[1m0s\u001b[0m 29ms/step - accuracy: 0.7729 - loss: 0.5570 - val_accuracy: 0.8037 - val_loss: 0.5703\n",
      "Epoch 4/20\n",
      "\u001b[1m5/5\u001b[0m \u001b[32m━━━━━━━━━━━━━━━━━━━━\u001b[0m\u001b[37m\u001b[0m \u001b[1m0s\u001b[0m 23ms/step - accuracy: 0.8492 - loss: 0.4356 - val_accuracy: 0.8222 - val_loss: 0.5757\n",
      "Epoch 5/20\n",
      "\u001b[1m5/5\u001b[0m \u001b[32m━━━━━━━━━━━━━━━━━━━━\u001b[0m\u001b[37m\u001b[0m \u001b[1m0s\u001b[0m 23ms/step - accuracy: 0.8828 - loss: 0.3337 - val_accuracy: 0.8370 - val_loss: 0.5205\n",
      "Epoch 6/20\n",
      "\u001b[1m5/5\u001b[0m \u001b[32m━━━━━━━━━━━━━━━━━━━━\u001b[0m\u001b[37m\u001b[0m \u001b[1m0s\u001b[0m 24ms/step - accuracy: 0.8756 - loss: 0.3230 - val_accuracy: 0.8370 - val_loss: 0.5209\n",
      "Epoch 7/20\n",
      "\u001b[1m5/5\u001b[0m \u001b[32m━━━━━━━━━━━━━━━━━━━━\u001b[0m\u001b[37m\u001b[0m \u001b[1m0s\u001b[0m 30ms/step - accuracy: 0.9125 - loss: 0.2600 - val_accuracy: 0.8741 - val_loss: 0.4906\n",
      "Epoch 8/20\n",
      "\u001b[1m5/5\u001b[0m \u001b[32m━━━━━━━━━━━━━━━━━━━━\u001b[0m\u001b[37m\u001b[0m \u001b[1m0s\u001b[0m 35ms/step - accuracy: 0.9262 - loss: 0.2161 - val_accuracy: 0.8556 - val_loss: 0.5089\n",
      "Epoch 9/20\n",
      "\u001b[1m5/5\u001b[0m \u001b[32m━━━━━━━━━━━━━━━━━━━━\u001b[0m\u001b[37m\u001b[0m \u001b[1m0s\u001b[0m 23ms/step - accuracy: 0.9116 - loss: 0.2306 - val_accuracy: 0.8815 - val_loss: 0.4911\n",
      "Epoch 10/20\n",
      "\u001b[1m5/5\u001b[0m \u001b[32m━━━━━━━━━━━━━━━━━━━━\u001b[0m\u001b[37m\u001b[0m \u001b[1m0s\u001b[0m 23ms/step - accuracy: 0.9148 - loss: 0.2099 - val_accuracy: 0.8741 - val_loss: 0.4880\n",
      "Epoch 11/20\n",
      "\u001b[1m5/5\u001b[0m \u001b[32m━━━━━━━━━━━━━━━━━━━━\u001b[0m\u001b[37m\u001b[0m \u001b[1m0s\u001b[0m 22ms/step - accuracy: 0.9336 - loss: 0.1723 - val_accuracy: 0.8778 - val_loss: 0.4981\n",
      "Epoch 12/20\n",
      "\u001b[1m5/5\u001b[0m \u001b[32m━━━━━━━━━━━━━━━━━━━━\u001b[0m\u001b[37m\u001b[0m \u001b[1m0s\u001b[0m 23ms/step - accuracy: 0.9391 - loss: 0.1618 - val_accuracy: 0.8815 - val_loss: 0.4713\n",
      "Epoch 13/20\n",
      "\u001b[1m5/5\u001b[0m \u001b[32m━━━━━━━━━━━━━━━━━━━━\u001b[0m\u001b[37m\u001b[0m \u001b[1m0s\u001b[0m 23ms/step - accuracy: 0.9404 - loss: 0.1727 - val_accuracy: 0.8741 - val_loss: 0.5241\n",
      "Epoch 14/20\n",
      "\u001b[1m5/5\u001b[0m \u001b[32m━━━━━━━━━━━━━━━━━━━━\u001b[0m\u001b[37m\u001b[0m \u001b[1m0s\u001b[0m 23ms/step - accuracy: 0.9450 - loss: 0.1414 - val_accuracy: 0.8926 - val_loss: 0.5147\n",
      "Epoch 15/20\n",
      "\u001b[1m5/5\u001b[0m \u001b[32m━━━━━━━━━━━━━━━━━━━━\u001b[0m\u001b[37m\u001b[0m \u001b[1m0s\u001b[0m 23ms/step - accuracy: 0.9469 - loss: 0.1547 - val_accuracy: 0.8889 - val_loss: 0.5239\n",
      "Epoch 16/20\n",
      "\u001b[1m5/5\u001b[0m \u001b[32m━━━━━━━━━━━━━━━━━━━━\u001b[0m\u001b[37m\u001b[0m \u001b[1m0s\u001b[0m 23ms/step - accuracy: 0.9459 - loss: 0.1600 - val_accuracy: 0.8815 - val_loss: 0.5441\n",
      "Epoch 17/20\n",
      "\u001b[1m5/5\u001b[0m \u001b[32m━━━━━━━━━━━━━━━━━━━━\u001b[0m\u001b[37m\u001b[0m \u001b[1m0s\u001b[0m 23ms/step - accuracy: 0.9428 - loss: 0.1436 - val_accuracy: 0.8852 - val_loss: 0.5111\n",
      "Epoch 18/20\n",
      "\u001b[1m5/5\u001b[0m \u001b[32m━━━━━━━━━━━━━━━━━━━━\u001b[0m\u001b[37m\u001b[0m \u001b[1m0s\u001b[0m 23ms/step - accuracy: 0.9647 - loss: 0.1201 - val_accuracy: 0.8926 - val_loss: 0.5519\n",
      "Epoch 19/20\n",
      "\u001b[1m5/5\u001b[0m \u001b[32m━━━━━━━━━━━━━━━━━━━━\u001b[0m\u001b[37m\u001b[0m \u001b[1m0s\u001b[0m 23ms/step - accuracy: 0.9606 - loss: 0.1216 - val_accuracy: 0.8815 - val_loss: 0.5693\n",
      "Epoch 20/20\n",
      "\u001b[1m5/5\u001b[0m \u001b[32m━━━━━━━━━━━━━━━━━━━━\u001b[0m\u001b[37m\u001b[0m \u001b[1m0s\u001b[0m 24ms/step - accuracy: 0.9467 - loss: 0.1316 - val_accuracy: 0.8741 - val_loss: 0.5630\n"
     ]
    }
   ],
   "source": [
    "history = model.fit(X_train, y_train, epochs=20, batch_size=128, validation_data=(X_test, y_test))"
   ]
  },
  {
   "cell_type": "code",
   "execution_count": 66,
   "metadata": {},
   "outputs": [
    {
     "data": {
      "image/png": "[encoded data removed]",
      "text/plain": [
       "<Figure size 640x480 with 1 Axes>"
      ]
     },
     "metadata": {},
     "output_type": "display_data"
    }
   ],
   "source": [
    "pyplot.plot(history.history['accuracy'], label='train')\n",
    "pyplot.plot(history.history['val_accuracy'], label='test')\n",
    "pyplot.plot(history.history['loss'], label='train_loss')\n",
    "pyplot.plot(history.history['val_loss'], label='test_loss')\n",
    "pyplot.legend()\n",
    "pyplot.show()"
   ]
  },
  {
   "cell_type": "code",
   "execution_count": 67,
   "metadata": {},
   "outputs": [
    {
     "name": "stdout",
     "output_type": "stream",
     "text": [
      "\u001b[1m9/9\u001b[0m \u001b[32m━━━━━━━━━━━━━━━━━━━━\u001b[0m\u001b[37m\u001b[0m \u001b[1m0s\u001b[0m 5ms/step - accuracy: 0.8567 - loss: 0.8131 \n",
      "Testing metrics\n",
      "accuracy: 87.407\n",
      "loss: 0.563\n"
     ]
    }
   ],
   "source": [
    "loss, acc = model.evaluate(X_test, y_test)\n",
    "\n",
    "print('Testing metrics')\n",
    "print('accuracy:', round(acc*100,3))\n",
    "print('loss:', round(loss,3))"
   ]
  },
  {
   "cell_type": "code",
   "execution_count": 68,
   "metadata": {},
   "outputs": [],
   "source": [
    "from sklearn.metrics import confusion_matrix"
   ]
  },
  {
   "cell_type": "code",
   "execution_count": 69,
   "metadata": {},
   "outputs": [
    {
     "name": "stdout",
     "output_type": "stream",
     "text": [
      "\u001b[1m9/9\u001b[0m \u001b[32m━━━━━━━━━━━━━━━━━━━━\u001b[0m\u001b[37m\u001b[0m \u001b[1m0s\u001b[0m 8ms/step \n"
     ]
    }
   ],
   "source": [
    "model_pred = model.predict(X_test)\n",
    "model_pred = np.argmax(model_pred, axis=1)\n",
    "y_test = np.argmax(y_test, axis=1)  # Eğer one-hot encoding ise"
   ]
  },
  {
   "cell_type": "code",
   "execution_count": 70,
   "metadata": {},
   "outputs": [
    {
     "name": "stdout",
     "output_type": "stream",
     "text": [
      "[[50  0  0  4  0  0  0]\n",
      " [ 0 61  0  2  2  0  0]\n",
      " [ 0  0 48  0  2  0  0]\n",
      " [ 5  0  0 17  9  0  0]\n",
      " [ 0  1  0  4 21  0  1]\n",
      " [ 0  0  1  0  0 14  2]\n",
      " [ 0  0  0  0  0  1 25]]\n"
     ]
    }
   ],
   "source": [
    "conf_matrix = confusion_matrix(y_test, model_pred)\n",
    "print(conf_matrix)"
   ]
  },
  {
   "cell_type": "code",
   "execution_count": null,
   "metadata": {},
   "outputs": [],
   "source": []
  }
 ],
 "metadata": {
  "kernelspec": {
   "display_name": "Python 3",
   "language": "python",
   "name": "python3"
  },
  "language_info": {
   "codemirror_mode": {
    "name": "ipython",
    "version": 3
   },
   "file_extension": ".py",
   "mimetype": "text/x-python",
   "name": "python",
   "nbconvert_exporter": "python",
   "pygments_lexer": "ipython3",
   "version": "3.11.9"
  }
 },
 "nbformat": 4,
 "nbformat_minor": 2
}
